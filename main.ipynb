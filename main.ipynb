{
 "cells": [
  {
   "cell_type": "code",
   "execution_count": 2,
   "metadata": {},
   "outputs": [],
   "source": [
    "#!/usr/bin/env python\n",
    "%load_ext autoreload\n",
    "%autoreload 2\n",
    "\n",
    "from utils.preprocess import normalize\n",
    "from utils.parser import nlp\n",
    "from utils.extract import clean_content\n",
    "from utils.auto_suggest import auto_suggest, suggest_sentences\n",
    "from utils.grammar import generate_candidates, iterate_all_patterns, iterate_all_gets, remove_overlap\n",
    "from utils.vocabulary import level_vocab"
   ]
  },
  {
   "cell_type": "code",
   "execution_count": 3,
   "metadata": {},
   "outputs": [],
   "source": [
    "def main_suggesting(content):\n",
    "    content = content.strip()\n",
    "\n",
    "    if not content: return None # empty content\n",
    "    if len(content.split(' ')) < 2: return None\n",
    "\n",
    "    # normalize\n",
    "    content = normalize(content)\n",
    "    last_sent = list(nlp(content, disable=['ner']).sents)[-1]\n",
    "    last_word = last_sent[-1]\n",
    "\n",
    "    return auto_suggest(last_word.text, last_word.tag_, last_sent.text.rsplit(' ', maxsplit=1)[0])\n",
    "\n",
    "    \n",
    "def main_profiling(content):\n",
    "    sentence_profiles = []\n",
    "    for sent in nlp(content, disable=['ner']).sents:\n",
    "        # 0. parse sentence\n",
    "        parse = nlp(normalize(sent.text), disable=['ner'])\n",
    "        \n",
    "        # 1. generate possible sentences\n",
    "        parses = generate_candidates(parse)\n",
    "        \n",
    "        # 2. find patterns for each candidate\n",
    "        gets = [get for parse in parses for get in iterate_all_patterns(parse)]\n",
    "\n",
    "        # 3. remove duplicate\n",
    "        gets = remove_overlap(parse, gets)\n",
    "        \n",
    "        # 4. recommend related higher pattern in the same group\n",
    "        recs = iterate_all_gets(gets)\n",
    "        \n",
    "        # 5. return\n",
    "        sentence_profiles.append({'sent': sent.text, \n",
    "                                  'parse': [tk.text for tk in parse],\n",
    "                                  'gets': gets, 'recs': recs })\n",
    "\n",
    "    return sentence_profiles\n",
    "\n",
    "\n",
    "def main_vocabuing(sentence):\n",
    "    parse = nlp(normalize(sentence))\n",
    "    vocabs = level_vocab(parse)\n",
    "    \n",
    "    return vocabs\n"
   ]
  },
  {
   "cell_type": "code",
   "execution_count": 6,
   "metadata": {},
   "outputs": [
    {
     "name": "stdout",
     "output_type": "stream",
     "text": [
      "[{'no': 9, 'level': 'B2', 'indices': [13, 14, 15], 'ngram': 'the marlin mutilated', 'match': 'DT NN VBN', 'category': 'ADJECTIVES', 'subcategory': 'combining', 'statement': 'Can use adjective phrases to modify nouns.'}, {'no': 55, 'level': 'C1', 'indices': [14, 15], 'ngram': 'marlin mutilated', 'match': 'NN VBN', 'category': 'ADJECTIVES', 'subcategory': 'position', 'statement': \"Can use the '–ed' form of a verb as an adjective, after a noun.\"}]\n"
     ]
    },
    {
     "name": "stderr",
     "output_type": "stream",
     "text": [
      "/usr/local/lib/python3.6/dist-packages/gensim/matutils.py:737: FutureWarning: Conversion of the second argument of issubdtype from `int` to `np.signedinteger` is deprecated. In future, it will be treated as `np.int64 == np.dtype(int).type`.\n",
      "  if np.issubdtype(vec.dtype, np.int):\n"
     ]
    },
    {
     "data": {
      "text/plain": [
       "[{'token': 'Currently',\n",
       "  'level': 'B2',\n",
       "  'recs': [{'vocab': 'presently', 'level': 'C1'},\n",
       "   {'vocab': 'exclusively', 'level': 'C1'},\n",
       "   {'vocab': 'reportedly', 'level': 'C2'}]}]"
      ]
     },
     "execution_count": 6,
     "metadata": {},
     "output_type": "execute_result"
    }
   ],
   "source": [
    "group_gets = iterate_all_patterns(nlp(\"The mako rolled and sank , carrying the harpoon with it and leaving the marlin mutilated and bloody .\"))\n",
    "\n",
    "group_recs  = iterate_all_gets(group_gets) # recommend patterns in same group\n",
    "print(group_gets)\n"
   ]
  },
  {
   "cell_type": "code",
   "execution_count": null,
   "metadata": {},
   "outputs": [],
   "source": [
    "#!/usr/bin/env python\n",
    "# -*- coding: utf-8 -*-\n",
    "\n",
    "from flask import Flask, render_template, request, jsonify\n",
    "from flask_cors import CORS, cross_origin\n",
    "\n",
    "app = Flask(__name__)\n",
    "\n",
    "app.config['CORS_HEADERS'] = 'Content-Type'\n",
    "CORS(app)\n",
    "\n",
    "\n",
    "@app.route('/')\n",
    "def index():\n",
    "    return render_template('index.html')\n",
    "\n",
    "\n",
    "# post /suggesting data: { content: str }\n",
    "@app.route('/suggesting', methods=['POST'])\n",
    "def suggesting():\n",
    "    request_data = request.get_json()\n",
    "    if not request_data: return jsonify({'result': 'Should not be empty'})\n",
    "\n",
    "    content = request_data['content']\n",
    "    suggestions = main_suggesting(content)\n",
    "\n",
    "    return jsonify({'suggest': suggestions})\n",
    "\n",
    "\n",
    "@app.route('/examples', methods=['POST'])\n",
    "def examples():\n",
    "    request_data = request.get_json()\n",
    "    if not request_data: return jsonify({'result': 'Should not be empty'})\n",
    "\n",
    "    ngram = request_data['ngram']\n",
    "    sentences = suggest_sentences(ngram)\n",
    "\n",
    "    return jsonify({'examples': sentences})\n",
    "\n",
    "\n",
    "# post /profiling data: { content: str , access: str}\n",
    "@app.route('/profiling', methods=['POST'])\n",
    "def profiling():\n",
    "    request_data = request.get_json()\n",
    "    if not request_data: return jsonify({'result': 'Should not be empty'})\n",
    "\n",
    "    if request_data['access'] == 'url':\n",
    "        content = clean_content(request_data['content']) # url\n",
    "    else:\n",
    "        content = request_data['content']\n",
    "        \n",
    "    # print(content)\n",
    "    sent_profiles = main_profiling(content)\n",
    "\n",
    "    return jsonify({'profiles': sent_profiles})\n",
    "\n",
    "\n",
    "# post /vocabuing data: { sentence: str }\n",
    "@app.route('/vocabuing', methods=['POST'])\n",
    "def vocabuing():\n",
    "    request_data = request.get_json()\n",
    "    if not request_data: return jsonify({'result': 'Should not be empty'})\n",
    "    \n",
    "    sentence = request_data['sentence']\n",
    "    \n",
    "    vocabs = main_vocabuing(sentence)\n",
    "\n",
    "    return jsonify({'vocabs': vocabs})\n",
    "\n",
    "\n",
    "if __name__ == \"__main__\":\n",
    "    app.run(host='0.0.0.0', port=1316)"
   ]
  },
  {
   "cell_type": "code",
   "execution_count": null,
   "metadata": {},
   "outputs": [],
   "source": [
    "# egs = []\n",
    "\n",
    "# for index, entry in Egp.get_examples().items():\n",
    "#     if index not in Egp.get_patterns(): continue\n",
    "        \n",
    "#     eg = []\n",
    "#     for sent in entry['sents']:\n",
    "#         level, sent = sent\n",
    "#         parse = nlp(normalize(sent))\n",
    "    \n",
    "#         matches = match_pat(parse, index, Egp.get_patterns()[index])\n",
    "#         if not matches: continue\n",
    "            \n",
    "#         sent = []\n",
    "#         for tk in parse:\n",
    "#             starts = [match[0] for match in matches]\n",
    "#             ends = [match[1] for match in matches]                \n",
    "\n",
    "#             if tk.i in starts:\n",
    "#                 sent.extend(['<w>', tk.text])\n",
    "#             elif tk.i in ends:\n",
    "#                 sent.extend(['</w>', tk.text])\n",
    "#             else:\n",
    "#                 sent.append(tk.text)\n",
    "        \n",
    "#         sent = ['I' if tk == 'i' else tk for tk in sent]\n",
    "#         sent = ' '.join(sent)\n",
    "#         eg.append(sent)\n",
    "\n",
    "#     if not eg: egs.append((index, entry['sents'][0][1]))\n",
    "#     else:      egs.append((index, eg[0]))\n",
    "        \n",
    "# with open('egp.highlights.txt', 'w', encoding='utf8') as ws:\n",
    "#     for line in egs:\n",
    "#         print(*line, sep='\\t', file=ws)"
   ]
  },
  {
   "cell_type": "code",
   "execution_count": null,
   "metadata": {},
   "outputs": [],
   "source": []
  },
  {
   "cell_type": "code",
   "execution_count": null,
   "metadata": {},
   "outputs": [],
   "source": []
  },
  {
   "cell_type": "code",
   "execution_count": null,
   "metadata": {},
   "outputs": [],
   "source": [
    "# print(parse)\n",
    "\n",
    "# for sent in generate_candidates(parse):\n",
    "#     print(' '.join([tk.text for tk in sent]))"
   ]
  },
  {
   "cell_type": "code",
   "execution_count": null,
   "metadata": {},
   "outputs": [],
   "source": []
  }
 ],
 "metadata": {
  "kernelspec": {
   "display_name": "Python 3",
   "language": "python",
   "name": "python3"
  },
  "language_info": {
   "codemirror_mode": {
    "name": "ipython",
    "version": 3
   },
   "file_extension": ".py",
   "mimetype": "text/x-python",
   "name": "python",
   "nbconvert_exporter": "python",
   "pygments_lexer": "ipython3",
   "version": "3.6.7"
  }
 },
 "nbformat": 4,
 "nbformat_minor": 2
}
