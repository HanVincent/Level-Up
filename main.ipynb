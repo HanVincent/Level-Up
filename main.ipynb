{
 "cells": [
  {
   "cell_type": "code",
   "execution_count": 3,
   "metadata": {},
   "outputs": [],
   "source": [
    "#!/usr/bin/env python\n",
    "%load_ext autoreload\n",
    "%autoreload 2\n",
    "\n",
    "import spacy\n",
    "from spacy.tokenizer import Tokenizer\n",
    "from spacy.util import compile_prefix_regex, compile_infix_regex, compile_suffix_regex\n",
    "\n",
    "def custom_tokenizer(nlp):\n",
    "    import re\n",
    "\n",
    "    infix_re = compile_prefix_regex(nlp.Defaults.infixes)\n",
    "    prefix_re = compile_prefix_regex(nlp.Defaults.prefixes)\n",
    "    suffix_re = compile_suffix_regex(nlp.Defaults.suffixes)\n",
    "\n",
    "    return Tokenizer(nlp.vocab, prefix_search=prefix_re.search,\n",
    "                                suffix_search=suffix_re.search,\n",
    "                                infix_finditer=infix_re.finditer,\n",
    "                                token_match=None)\n",
    "\n",
    "nlp = spacy.load('en_core_web_lg') \n",
    "nlp.tokenizer = custom_tokenizer(nlp)\n"
   ]
  },
  {
   "cell_type": "code",
   "execution_count": 28,
   "metadata": {},
   "outputs": [],
   "source": [
    "from utils.preprocess import normalize\n",
    "from utils.extract import clean_content\n",
    "from utils.auto_suggest import auto_suggest\n",
    "from utils.grammar import generate_candidates, iterate_all_patterns, iterate_all_gets, remove_overlap, Egp\n",
    "from utils.vocabulary import level_vocab"
   ]
  },
  {
   "cell_type": "markdown",
   "metadata": {},
   "source": [
    "##### http://weedyc.pixnet.net/blog/post/26181706-%E8%8B%B1%E6%96%87%E6%96%87%E6%B3%95%E8%BC%95%E9%AC%86%E5%AD%B8%EF%BC%9A%E4%BA%94%E5%A4%A7%E5%9F%BA%E6%9C%AC%E5%8F%A5%E5%9E%8B\n",
    "\n",
    "1. 主詞 + 動詞 S. V.\n",
    "2. 主詞 + 動詞 + 受詞 S. V. O.\n",
    "3. 主詞 + 動詞 + 補語 S. V. C.\n",
    "4. 主詞 + 動詞 + 受詞 + 受詞 S. V. O1 O2\n",
    "5. 主詞 + 動詞 + 受詞 + 補語 S. V. O. C."
   ]
  },
  {
   "cell_type": "code",
   "execution_count": null,
   "metadata": {},
   "outputs": [],
   "source": [
    "# # approach 1\n",
    "\n",
    "# # root\n",
    "# SENTENCE_PATTERNS = {\n",
    "#     'SV': ['nsubj', 'punct'],\n",
    "#     'SVO': ['nsubj', 'dobj', 'punct'],\n",
    "#     'SVC': ['nsubj', 'attr', 'acomp', 'punct'],\n",
    "#     'SVOO': ['nsubj', 'dative', 'dobj', 'punct'],\n",
    "#     'SVOC': ['nsubj', 'ccomp', 'dobj', 'oprd', 'punct']\n",
    "# }\n",
    "# SENTENCE_PATTERNS = SENTENCE_PATTERNS.items()\n",
    "\n",
    " \n",
    "# def get_first(root):\n",
    "#     candidates = {}\n",
    "#     for pattern, deps in SENTENCE_PATTERNS:\n",
    "#         sent = [root] + [child for child in root.children if child.dep_ in deps]\n",
    "#         candidates[pattern] = sorted(sent, key=lambda x: x.i)\n",
    "        \n",
    "#     return max(candidates.items(), key=lambda el: len(el[1]))\n",
    "\n",
    "# get_first(get_root(parse))"
   ]
  },
  {
   "cell_type": "code",
   "execution_count": null,
   "metadata": {},
   "outputs": [],
   "source": [
    "def main_suggesting(content):\n",
    "    content = content.strip()\n",
    "\n",
    "    if not content: return None # empty content\n",
    "\n",
    "    # normalize\n",
    "    content = normalize(content)\n",
    "    last_sent = list(nlp(content, disable=['ner']).sents)[-1]\n",
    "    last_word = last_sent[-1]\n",
    "    \n",
    "    return auto_suggest(last_word.text, last_word.tag_, last_sent.text)\n",
    "\n",
    "    \n",
    "def main_profiling(content):\n",
    "    sentence_profiles = []\n",
    "    for sent in nlp(content, disable=['ner']).sents:\n",
    "        # 0. parse sentence\n",
    "        parse = nlp(normalize(sent.text), disable=['ner'])\n",
    "        \n",
    "        # 1. generate possible sentences\n",
    "        parses = generate_candidates(parse)\n",
    "        \n",
    "        # 2. find patterns for each candidate\n",
    "        gets = [get for parse in parses for get in iterate_all_patterns(parse)]\n",
    "\n",
    "        # 3. remove duplicate\n",
    "        gets = remove_overlap(parse, gets)\n",
    "        \n",
    "        # 4. recommend related higher pattern in the same group\n",
    "        recs = iterate_all_gets(gets)\n",
    "        \n",
    "        # 5. return\n",
    "        sentence_profiles.append({'sent': sent.text, \n",
    "                                  'parse': [tk.text for tk in parse],\n",
    "                                  'gets': gets, 'recs': recs })\n",
    "\n",
    "    return sentence_profiles\n",
    "\n",
    "\n",
    "def main_vocabuing(sentence):\n",
    "    sentence = normalize(sentence)\n",
    "    parse = nlp(sentence)\n",
    "\n",
    "    # 1. get vocabulary level\n",
    "    vocabs = level_vocab(parse)\n",
    "    \n",
    "    return vocabs"
   ]
  },
  {
   "cell_type": "code",
   "execution_count": null,
   "metadata": {},
   "outputs": [],
   "source": [
    "group_gets = iterate_all_patterns(nlp(\"He is nice and friendly.\"))\n",
    "\n",
    "group_recs  = iterate_all_gets(group_gets) # recommend patterns in same group"
   ]
  },
  {
   "cell_type": "code",
   "execution_count": null,
   "metadata": {},
   "outputs": [],
   "source": [
    "#!/usr/bin/env python\n",
    "# -*- coding: utf-8 -*-\n",
    "\n",
    "from flask import Flask, render_template, request, jsonify\n",
    "from flask_cors import CORS, cross_origin\n",
    "\n",
    "app = Flask(__name__)\n",
    "\n",
    "app.config['CORS_HEADERS'] = 'Content-Type'\n",
    "CORS(app)\n",
    "\n",
    "\n",
    "@app.route('/')\n",
    "def index():\n",
    "    return render_template('index.html')\n",
    "\n",
    "\n",
    "# post /suggesting data: { content: str }\n",
    "@app.route('/suggesting', methods=['POST'])\n",
    "def suggesting():\n",
    "    request_data = request.get_json()\n",
    "    if not request_data: return jsonify({'result': 'Should not be empty'})\n",
    "\n",
    "    content = request_data['content']\n",
    "    suggestions = main_suggesting(content)\n",
    "\n",
    "    return jsonify({'suggest': suggestions})\n",
    "\n",
    "\n",
    "# post /profiling data: { content: str , access: str}\n",
    "@app.route('/profiling', methods=['POST'])\n",
    "def profiling():\n",
    "    request_data = request.get_json()\n",
    "    if not request_data: return jsonify({'result': 'Should not be empty'})\n",
    "\n",
    "    if request_data['access'] == 'url':\n",
    "        content = clean_content(request_data['content']) # url\n",
    "    else:\n",
    "        content = request_data['content']\n",
    "        \n",
    "    # print(content)\n",
    "    sent_profiles = main_profiling(content)\n",
    "\n",
    "    return jsonify({'profiles': sent_profiles})\n",
    "\n",
    "\n",
    "# post /vocabuing data: { sentence: str }\n",
    "@app.route('/vocabuing', methods=['POST'])\n",
    "def vocabuing():\n",
    "    request_data = request.get_json()\n",
    "    if not request_data: return jsonify({'result': 'Should not be empty'})\n",
    "    \n",
    "    sentence = request_data['sentence']\n",
    "    \n",
    "    vocabs = main_vocabuing(sentence)\n",
    "\n",
    "    return jsonify({'vocabs': vocabs})\n",
    "\n",
    "\n",
    "if __name__ == \"__main__\":\n",
    "    app.run(host='0.0.0.0', port=1316)"
   ]
  },
  {
   "cell_type": "code",
   "execution_count": null,
   "metadata": {},
   "outputs": [],
   "source": [
    "# egs = []\n",
    "\n",
    "# for index, entry in Egp.get_examples().items():\n",
    "#     if index not in Egp.get_patterns(): continue\n",
    "        \n",
    "#     eg = []\n",
    "#     for sent in entry['sents']:\n",
    "#         level, sent = sent\n",
    "#         parse = nlp(normalize(sent))\n",
    "    \n",
    "#         matches = match_pat(parse, index, Egp.get_patterns()[index])\n",
    "#         if not matches: continue\n",
    "            \n",
    "#         sent = []\n",
    "#         for tk in parse:\n",
    "#             starts = [match[0] for match in matches]\n",
    "#             ends = [match[1] for match in matches]                \n",
    "\n",
    "#             if tk.i in starts:\n",
    "#                 sent.extend(['<w>', tk.text])\n",
    "#             elif tk.i in ends:\n",
    "#                 sent.extend(['</w>', tk.text])\n",
    "#             else:\n",
    "#                 sent.append(tk.text)\n",
    "        \n",
    "#         sent = ['I' if tk == 'i' else tk for tk in sent]\n",
    "#         sent = ' '.join(sent)\n",
    "#         eg.append(sent)\n",
    "\n",
    "#     if not eg: egs.append((index, entry['sents'][0][1]))\n",
    "#     else:      egs.append((index, eg[0]))\n",
    "        \n",
    "# with open('egp.highlights.txt', 'w', encoding='utf8') as ws:\n",
    "#     for line in egs:\n",
    "#         print(*line, sep='\\t', file=ws)"
   ]
  },
  {
   "cell_type": "code",
   "execution_count": null,
   "metadata": {},
   "outputs": [],
   "source": []
  },
  {
   "cell_type": "code",
   "execution_count": 16,
   "metadata": {},
   "outputs": [
    {
     "name": "stdout",
     "output_type": "stream",
     "text": [
      "PRP\n",
      "VBP\n"
     ]
    }
   ],
   "source": [
    "from utils.explacy import print_parse_info\n",
    "parse = nlp(\"I look\")\n",
    "for a in parse:\n",
    "    print(a.tag_)"
   ]
  },
  {
   "cell_type": "code",
   "execution_count": 14,
   "metadata": {},
   "outputs": [
    {
     "ename": "KeyError",
     "evalue": "'ens'",
     "output_type": "error",
     "traceback": [
      "\u001b[0;31m---------------------------------------------------------------------------\u001b[0m",
      "\u001b[0;31mKeyError\u001b[0m                                  Traceback (most recent call last)",
      "\u001b[0;32m<ipython-input-14-ff7bc5f5a9fb>\u001b[0m in \u001b[0;36m<module>\u001b[0;34m\u001b[0m\n\u001b[0;32m----> 1\u001b[0;31m \u001b[0mprint_parse_info\u001b[0m\u001b[0;34m(\u001b[0m\u001b[0mnlp\u001b[0m\u001b[0;34m,\u001b[0m \u001b[0;34m\"I am simply\"\u001b[0m\u001b[0;34m)\u001b[0m\u001b[0;34m\u001b[0m\u001b[0;34m\u001b[0m\u001b[0m\n\u001b[0m",
      "\u001b[0;32m~/cam.evp.egp/utils/explacy.py\u001b[0m in \u001b[0;36mprint_parse_info\u001b[0;34m(nlp, sent)\u001b[0m\n\u001b[1;32m    184\u001b[0m     \u001b[0;32mfor\u001b[0m \u001b[0mi\u001b[0m \u001b[0;32min\u001b[0m \u001b[0mrange\u001b[0m\u001b[0;34m(\u001b[0m\u001b[0mlen\u001b[0m\u001b[0;34m(\u001b[0m\u001b[0mlines\u001b[0m\u001b[0;34m)\u001b[0m\u001b[0;34m)\u001b[0m\u001b[0;34m:\u001b[0m\u001b[0;34m\u001b[0m\u001b[0;34m\u001b[0m\u001b[0m\n\u001b[1;32m    185\u001b[0m         lines[i] = [arr_chars[''.join(sorted(ch))] if type(ch) is set else ch\n\u001b[0;32m--> 186\u001b[0;31m                     for ch in lines[i]]\n\u001b[0m\u001b[1;32m    187\u001b[0m         \u001b[0mlines\u001b[0m\u001b[0;34m[\u001b[0m\u001b[0mi\u001b[0m\u001b[0;34m]\u001b[0m \u001b[0;34m=\u001b[0m \u001b[0;34m''\u001b[0m\u001b[0;34m.\u001b[0m\u001b[0mjoin\u001b[0m\u001b[0;34m(\u001b[0m\u001b[0mreversed\u001b[0m\u001b[0;34m(\u001b[0m\u001b[0mlines\u001b[0m\u001b[0;34m[\u001b[0m\u001b[0mi\u001b[0m\u001b[0;34m]\u001b[0m\u001b[0;34m)\u001b[0m\u001b[0;34m)\u001b[0m\u001b[0;34m\u001b[0m\u001b[0;34m\u001b[0m\u001b[0m\n\u001b[1;32m    188\u001b[0m         \u001b[0mlines\u001b[0m\u001b[0;34m[\u001b[0m\u001b[0mi\u001b[0m\u001b[0;34m]\u001b[0m \u001b[0;34m=\u001b[0m \u001b[0;34m' '\u001b[0m \u001b[0;34m*\u001b[0m \u001b[0;34m(\u001b[0m\u001b[0mmax_len\u001b[0m \u001b[0;34m-\u001b[0m \u001b[0mlen\u001b[0m\u001b[0;34m(\u001b[0m\u001b[0mlines\u001b[0m\u001b[0;34m[\u001b[0m\u001b[0mi\u001b[0m\u001b[0;34m]\u001b[0m\u001b[0;34m)\u001b[0m\u001b[0;34m)\u001b[0m \u001b[0;34m+\u001b[0m \u001b[0mlines\u001b[0m\u001b[0;34m[\u001b[0m\u001b[0mi\u001b[0m\u001b[0;34m]\u001b[0m\u001b[0;34m\u001b[0m\u001b[0;34m\u001b[0m\u001b[0m\n",
      "\u001b[0;32m~/cam.evp.egp/utils/explacy.py\u001b[0m in \u001b[0;36m<listcomp>\u001b[0;34m(.0)\u001b[0m\n\u001b[1;32m    184\u001b[0m     \u001b[0;32mfor\u001b[0m \u001b[0mi\u001b[0m \u001b[0;32min\u001b[0m \u001b[0mrange\u001b[0m\u001b[0;34m(\u001b[0m\u001b[0mlen\u001b[0m\u001b[0;34m(\u001b[0m\u001b[0mlines\u001b[0m\u001b[0;34m)\u001b[0m\u001b[0;34m)\u001b[0m\u001b[0;34m:\u001b[0m\u001b[0;34m\u001b[0m\u001b[0;34m\u001b[0m\u001b[0m\n\u001b[1;32m    185\u001b[0m         lines[i] = [arr_chars[''.join(sorted(ch))] if type(ch) is set else ch\n\u001b[0;32m--> 186\u001b[0;31m                     for ch in lines[i]]\n\u001b[0m\u001b[1;32m    187\u001b[0m         \u001b[0mlines\u001b[0m\u001b[0;34m[\u001b[0m\u001b[0mi\u001b[0m\u001b[0;34m]\u001b[0m \u001b[0;34m=\u001b[0m \u001b[0;34m''\u001b[0m\u001b[0;34m.\u001b[0m\u001b[0mjoin\u001b[0m\u001b[0;34m(\u001b[0m\u001b[0mreversed\u001b[0m\u001b[0;34m(\u001b[0m\u001b[0mlines\u001b[0m\u001b[0;34m[\u001b[0m\u001b[0mi\u001b[0m\u001b[0;34m]\u001b[0m\u001b[0;34m)\u001b[0m\u001b[0;34m)\u001b[0m\u001b[0;34m\u001b[0m\u001b[0;34m\u001b[0m\u001b[0m\n\u001b[1;32m    188\u001b[0m         \u001b[0mlines\u001b[0m\u001b[0;34m[\u001b[0m\u001b[0mi\u001b[0m\u001b[0;34m]\u001b[0m \u001b[0;34m=\u001b[0m \u001b[0;34m' '\u001b[0m \u001b[0;34m*\u001b[0m \u001b[0;34m(\u001b[0m\u001b[0mmax_len\u001b[0m \u001b[0;34m-\u001b[0m \u001b[0mlen\u001b[0m\u001b[0;34m(\u001b[0m\u001b[0mlines\u001b[0m\u001b[0;34m[\u001b[0m\u001b[0mi\u001b[0m\u001b[0;34m]\u001b[0m\u001b[0;34m)\u001b[0m\u001b[0;34m)\u001b[0m \u001b[0;34m+\u001b[0m \u001b[0mlines\u001b[0m\u001b[0;34m[\u001b[0m\u001b[0mi\u001b[0m\u001b[0;34m]\u001b[0m\u001b[0;34m\u001b[0m\u001b[0;34m\u001b[0m\u001b[0m\n",
      "\u001b[0;31mKeyError\u001b[0m: 'ens'"
     ]
    }
   ],
   "source": [
    "print_parse_info(nlp, \"I am simply\")\n"
   ]
  },
  {
   "cell_type": "code",
   "execution_count": null,
   "metadata": {},
   "outputs": [],
   "source": [
    "# print(parse)\n",
    "\n",
    "# for sent in generate_candidates(parse):\n",
    "#     print(' '.join([tk.text for tk in sent]))"
   ]
  },
  {
   "cell_type": "code",
   "execution_count": null,
   "metadata": {},
   "outputs": [],
   "source": []
  }
 ],
 "metadata": {
  "kernelspec": {
   "display_name": "Python 3",
   "language": "python",
   "name": "python3"
  },
  "language_info": {
   "codemirror_mode": {
    "name": "ipython",
    "version": 3
   },
   "file_extension": ".py",
   "mimetype": "text/x-python",
   "name": "python",
   "nbconvert_exporter": "python",
   "pygments_lexer": "ipython3",
   "version": "3.6.7"
  }
 },
 "nbformat": 4,
 "nbformat_minor": 2
}
