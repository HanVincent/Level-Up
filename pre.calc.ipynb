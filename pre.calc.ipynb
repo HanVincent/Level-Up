{
 "cells": [
  {
   "cell_type": "code",
   "execution_count": 2,
   "metadata": {},
   "outputs": [],
   "source": [
    "#!/usr/bin/env python\n",
    "%load_ext autoreload\n",
    "%autoreload 2\n",
    "\n",
    "from utils.parser import nlp"
   ]
  },
  {
   "cell_type": "code",
   "execution_count": 3,
   "metadata": {},
   "outputs": [],
   "source": [
    "import gzip, pickle\n",
    "\n",
    "from utils.grammar import generate_candidates, iterate_all_patterns, remove_overlap"
   ]
  },
  {
   "cell_type": "code",
   "execution_count": null,
   "metadata": {},
   "outputs": [],
   "source": [
    "class DotDict(dict):\n",
    "    \n",
    "    def __init__(self, token, doc):\n",
    "        index, text, lemma, norm, pos, tag, dep, head, children = token.split('|')\n",
    "        children = children.strip()\n",
    "\n",
    "        self.i = int(index)\n",
    "        ###\n",
    "        self.text = text.lower()\n",
    "        self.norm_ = norm.lower()\n",
    "        self.lemma_ = lemma.lower()\n",
    "        ###\n",
    "        \n",
    "        self.dep_ = dep\n",
    "        self.pos_ = pos\n",
    "        self.tag_ = tag\n",
    "        self.head_ = int(head)\n",
    "        self.children_ = children\n",
    "        self.doc = doc\n",
    "    \n",
    "    def __getattr__(self, name):\n",
    "        if name == 'head':\n",
    "            return self.doc[head_]\n",
    "        elif name == 'children':\n",
    "            return [self.doc[int(e)] for e in self.children_.split(',')] if self.children_ else []\n",
    "        else:\n",
    "            return self[name]\n",
    "    \n",
    "    \n",
    "class Parse(list):\n",
    "\n",
    "    def __init__(self, entry):\n",
    "        tokens = [token for token in entry.strip().split('\\t') if token]\n",
    "        text, tokens = tokens[0], tokens[1:]\n",
    "        \n",
    "        self.extend([DotDict(token, self) for token in tokens])"
   ]
  },
  {
   "cell_type": "code",
   "execution_count": null,
   "metadata": {},
   "outputs": [],
   "source": [
    "from utils.preprocess import duplicate_sent\n",
    "from itertools import product\n",
    "import json\n",
    "\n",
    "def find_values(id, json_repr):\n",
    "    results = []\n",
    "\n",
    "    def _decode_dict(a_dict):\n",
    "        try: results.append(a_dict[id])\n",
    "        except KeyError: pass\n",
    "        return a_dict\n",
    "\n",
    "    json.loads(json_repr, object_hook=_decode_dict)  # Return value ignored.\n",
    "    results = [s for result in results for sent in result for s in duplicate_sent(sent) ] # flatten\n",
    "    \n",
    "    return results\n"
   ]
  },
  {
   "cell_type": "code",
   "execution_count": null,
   "metadata": {},
   "outputs": [],
   "source": [
    "fs = gzip.open('bnc.parse.txt.gz', 'rt', encoding='utf8')"
   ]
  },
  {
   "cell_type": "code",
   "execution_count": null,
   "metadata": {},
   "outputs": [],
   "source": [
    "from collections import defaultdict, Counter\n",
    "\n",
    "counts = Counter()\n",
    "ngrams = defaultdict(Counter)\n",
    "sentences = defaultdict(list)\n",
    "\n",
    "for i, entry in enumerate(fs):\n",
    "# for i, sentence in enumerate(dict_sentences):\n",
    "    parse = Parse(entry)\n",
    "#     parse = nlp(sentence, disable=['ner'])\n",
    "\n",
    "    # 1. generate possible sentences\n",
    "    parses = generate_candidates(parse)\n",
    "\n",
    "    # 2. find patterns for each candidate\n",
    "    gets = [get for parse in parses for get in iterate_all_patterns(parse)]\n",
    "\n",
    "    # 3. remove duplicate\n",
    "    gets = remove_overlap(parse, gets)\n",
    "\n",
    "    text = ' '.join([tk.text for tk in parse])\n",
    "    for get in gets:\n",
    "        counts[(get['match'], get['no'])] += 1\n",
    "        ngrams[(get['match'], get['no'])][get['ngram']] += 1\n",
    "\n",
    "    # for sentences\n",
    "    gets = iterate_all_patterns(parses[-1])\n",
    "    gets = remove_overlap(parse, gets)\n",
    "    for get in gets:\n",
    "        text = ' '.join([ '<w>' + tk.text + '</w>' if i in get['indices'] else tk.text for i, tk in enumerate(parse)])\n",
    "        sentences[ get['ngram'] ].append(text)\n",
    "\n",
    "        \n",
    "    if i % 20000 == 0:\n",
    "        print(i)\n",
    "        with open('new.recommend.pickle', 'wb') as handle:\n",
    "            pickle.dump({ 'counts': counts, 'ngrams': ngrams, 'sentences': sentences }, handle, protocol=pickle.HIGHEST_PROTOCOL)"
   ]
  },
  {
   "cell_type": "code",
   "execution_count": null,
   "metadata": {},
   "outputs": [],
   "source": [
    "with open('new.recommend.pickle', 'wb') as handle:\n",
    "    pickle.dump({ 'counts': counts, 'ngrams': ngrams, 'sentences': sentences }, handle, protocol=pickle.HIGHEST_PROTOCOL)"
   ]
  },
  {
   "cell_type": "code",
   "execution_count": null,
   "metadata": {},
   "outputs": [],
   "source": []
  },
  {
   "cell_type": "code",
   "execution_count": 23,
   "metadata": {},
   "outputs": [],
   "source": []
  },
  {
   "cell_type": "code",
   "execution_count": 24,
   "metadata": {},
   "outputs": [],
   "source": []
  }
 ],
 "metadata": {
  "kernelspec": {
   "display_name": "Python 3",
   "language": "python",
   "name": "python3"
  },
  "language_info": {
   "codemirror_mode": {
    "name": "ipython",
    "version": 3
   },
   "file_extension": ".py",
   "mimetype": "text/x-python",
   "name": "python",
   "nbconvert_exporter": "python",
   "pygments_lexer": "ipython3",
   "version": "3.6.7"
  }
 },
 "nbformat": 4,
 "nbformat_minor": 2
}
