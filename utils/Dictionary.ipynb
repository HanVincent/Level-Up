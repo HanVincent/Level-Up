{
 "cells": [
  {
   "cell_type": "code",
   "execution_count": 7,
   "metadata": {},
   "outputs": [
    {
     "ename": "ModuleNotFoundError",
     "evalue": "No module named '__main__.config'; '__main__' is not a package",
     "output_type": "error",
     "traceback": [
      "\u001b[0;31m---------------------------------------------------------------------------\u001b[0m",
      "\u001b[0;31mModuleNotFoundError\u001b[0m                       Traceback (most recent call last)",
      "\u001b[0;32m<ipython-input-7-74898844f7ce>\u001b[0m in \u001b[0;36m<module>\u001b[0;34m\u001b[0m\n\u001b[1;32m      1\u001b[0m \u001b[0;32mfrom\u001b[0m \u001b[0mcollections\u001b[0m \u001b[0;32mimport\u001b[0m \u001b[0mdefaultdict\u001b[0m\u001b[0;34m\u001b[0m\u001b[0;34m\u001b[0m\u001b[0m\n\u001b[0;32m----> 2\u001b[0;31m \u001b[0;32mfrom\u001b[0m \u001b[0;34m.\u001b[0m\u001b[0mconfig\u001b[0m \u001b[0;32mimport\u001b[0m \u001b[0mlevel_table\u001b[0m\u001b[0;34m\u001b[0m\u001b[0;34m\u001b[0m\u001b[0m\n\u001b[0m",
      "\u001b[0;31mModuleNotFoundError\u001b[0m: No module named '__main__.config'; '__main__' is not a package"
     ]
    }
   ],
   "source": [
    "from collections import defaultdict\n",
    "from .config import level_table"
   ]
  },
  {
   "cell_type": "markdown",
   "metadata": {},
   "source": [
    "### Just lookup dictionary directly (ignore POS)"
   ]
  },
  {
   "cell_type": "code",
   "execution_count": 51,
   "metadata": {},
   "outputs": [],
   "source": [
    "class Dictionary:\n",
    "    \n",
    "    def __init__(self):\n",
    "        self.vocab_level = {}\n",
    "\n",
    "        for line in open('dict.slim.txt', 'r', encoding='utf8'):\n",
    "            vocab, level, poss, gw, href = line.split('\\t')\n",
    "\n",
    "            if vocab not in vocab_level or level_table[level] < level_table[vocab_level[vocab]]:\n",
    "                self.vocab_level[vocab] = level\n",
    "    \n",
    "    def lookup(vocab):\n",
    "        return self.vocab_level[vocab]\n",
    "\n"
   ]
  },
  {
   "cell_type": "markdown",
   "metadata": {},
   "source": [
    "### Use POS to categorize"
   ]
  },
  {
   "cell_type": "code",
   "execution_count": 45,
   "metadata": {},
   "outputs": [],
   "source": [
    "# '''有些還是有誤，像是 everybody: pronoun(spacy: PRON)'''\n",
    "# vocab_level = defaultdict(lambda: defaultdict(lambda: \"C2\"))\n",
    "# pos_set = set()\n",
    "\n",
    "# for line in open('dict.slim.txt', 'r', encoding='utf8'):\n",
    "#     vocab, level, poss, gw, href = line.split('\\t')\n",
    "    \n",
    "#     for pos in poss.replace(\";\", \",\").split(','):\n",
    "#         pos_set.add(pos.strip().lower())\n",
    "#         if level_table[level] < level_table[vocab_level[vocab][pos]]:\n",
    "#             vocab_level[vocab][pos] = level\n"
   ]
  },
  {
   "cell_type": "code",
   "execution_count": null,
   "metadata": {},
   "outputs": [],
   "source": []
  }
 ],
 "metadata": {
  "kernelspec": {
   "display_name": "Python 3",
   "language": "python",
   "name": "python3"
  },
  "language_info": {
   "codemirror_mode": {
    "name": "ipython",
    "version": 3
   },
   "file_extension": ".py",
   "mimetype": "text/x-python",
   "name": "python",
   "nbconvert_exporter": "python",
   "pygments_lexer": "ipython3",
   "version": "3.6.7"
  }
 },
 "nbformat": 4,
 "nbformat_minor": 2
}
