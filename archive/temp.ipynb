{
 "cells": [
  {
   "cell_type": "code",
   "execution_count": null,
   "metadata": {},
   "outputs": [],
   "source": [
    "words = '''bravely\n",
    "\n",
    "carelessly\n",
    "cleverly\n",
    "\n",
    "correctly\n",
    "foolishly\n",
    "\n",
    "generously\n",
    "helpfully\n",
    "kindly\n",
    "\n",
    "rightly\n",
    "wisely\n",
    "\n",
    "wrongly\n",
    "'''.replace('\\x0c', '').replace('~', '').split('\\n')\n"
   ]
  },
  {
   "cell_type": "code",
   "execution_count": null,
   "metadata": {},
   "outputs": [],
   "source": [
    "','.join(set([word for word in words if word]))\n"
   ]
  },
  {
   "cell_type": "code",
   "execution_count": null,
   "metadata": {},
   "outputs": [],
   "source": [
    "','.join(set('''unexpectedly,hopefully,personally,naturally,wisely,obviously,alas,conveniently,happily,surely,basically,please,true,understandably,typically,honestly,to my mind,remarkably,miraculously,admittedly,actually,on reflection,mercifully,astonishingly,mysteriously,significantly,coincidentally,surprisinglyobviously,sadly,literally,clearly,anyway,apparently,unbelievably,ironically,at least,frankly,inevitably,incredibly,in my view,unfortunately,unnecessarily,in all honesty,in fairness,unhappily,characteristically,fortunately,in my opinion,luckily,of course,paradoxically,amazingly,oddly,predictably,truly,absurdly,in retrospect,exceptionally,simply,funnily,curiously,strangely,interestingly,completely,surprisingly,seriously,bravely,foolishly,cleverly,wisely,rightly,kindly,helpfully,correctly,carelessly,wrongly,generously'''.split(',')))\n"
   ]
  },
  {
   "cell_type": "code",
   "execution_count": null,
   "metadata": {},
   "outputs": [],
   "source": []
  },
  {
   "cell_type": "code",
   "execution_count": null,
   "metadata": {},
   "outputs": [],
   "source": []
  },
  {
   "cell_type": "code",
   "execution_count": null,
   "metadata": {},
   "outputs": [],
   "source": [
    "egs = []\n",
    "\n",
    "for index, entry in Egp.get_examples().items():\n",
    "    if index not in pat_dict: continue\n",
    "        \n",
    "    eg = []\n",
    "    for sent in entry['sents']:\n",
    "        level, sent = sent\n",
    "        parse = nlp(normalize(sent))\n",
    "    \n",
    "        matches = match_pat(parse, index, pat_dict[index])\n",
    "        if not matches: continue\n",
    "            \n",
    "        sent = []\n",
    "        for tk in parse:\n",
    "            starts = [match[0] for match in matches]\n",
    "            ends = [match[1] for match in matches]                \n",
    "\n",
    "            if tk.i in starts:\n",
    "                sent.extend(['<w>', tk.text])\n",
    "            elif tk.i in ends:\n",
    "                sent.extend(['</w>', tk.text])\n",
    "            else:\n",
    "                sent.append(tk.text)\n",
    "        \n",
    "        sent = ['I' if tk == 'i' else tk for tk in sent]\n",
    "        sent = ' '.join(sent)\n",
    "        eg.append(sent)\n",
    "\n",
    "    if not eg: egs.append((index, entry['sents'][0][1]))\n",
    "    else:      egs.append((index, eg[0]))\n",
    "        \n",
    "with open('egp.highlights.txt', 'w', encoding='utf8') as ws:\n",
    "    for line in egs:\n",
    "        print(*line, sep='\\t', file=ws)"
   ]
  }
 ],
 "metadata": {
  "kernelspec": {
   "display_name": "Python 3",
   "language": "python",
   "name": "python3"
  },
  "language_info": {
   "codemirror_mode": {
    "name": "ipython",
    "version": 3
   },
   "file_extension": ".py",
   "mimetype": "text/x-python",
   "name": "python",
   "nbconvert_exporter": "python",
   "pygments_lexer": "ipython3",
   "version": "3.6.7"
  }
 },
 "nbformat": 4,
 "nbformat_minor": 2
}
